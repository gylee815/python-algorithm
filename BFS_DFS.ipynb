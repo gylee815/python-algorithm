{
 "cells": [
  {
   "cell_type": "code",
   "execution_count": 2,
   "id": "99476cae",
   "metadata": {},
   "outputs": [
    {
     "name": "stdout",
     "output_type": "stream",
     "text": [
      "6\n"
     ]
    }
   ],
   "source": [
    "# gcd\n",
    "\n",
    "def gcd(a, b):\n",
    "    if a % b == 0:\n",
    "        return b\n",
    "    else:\n",
    "        r = a%b\n",
    "        a = b\n",
    "        b = r\n",
    "        return gcd(a,b)\n",
    "    \n",
    "print(gcd(192, 162))"
   ]
  },
  {
   "cell_type": "code",
   "execution_count": 3,
   "id": "4587ac52",
   "metadata": {},
   "outputs": [
    {
     "name": "stdout",
     "output_type": "stream",
     "text": [
      "deque([3, 4, 5])\n"
     ]
    }
   ],
   "source": [
    "# Queue\n",
    "\n",
    "from collections import deque\n",
    "\n",
    "queue = deque()\n",
    "\n",
    "queue.append(1)\n",
    "queue.append(2)\n",
    "queue.append(3)\n",
    "queue.append(4)\n",
    "queue.popleft()\n",
    "queue.append(5)\n",
    "queue.popleft()\n",
    "\n",
    "print(queue)"
   ]
  },
  {
   "cell_type": "code",
   "execution_count": 5,
   "id": "b52089ce",
   "metadata": {},
   "outputs": [
    {
     "name": "stdout",
     "output_type": "stream",
     "text": [
      "1\t2\t7\t6\t8\t3\t4\t5\tfinished\n"
     ]
    }
   ],
   "source": [
    "# DFS\n",
    "\n",
    "def dfs(graph, v, visted):\n",
    "    visited[v] = True\n",
    "    print(v, end='\\t')\n",
    "    \n",
    "    for i in graph[v]:\n",
    "        if not visited[i]:\n",
    "            dfs(graph, i, visited)\n",
    "    return \"finished\"\n",
    "    \n",
    "graph = [\n",
    "    [],\n",
    "    [2,3,8],\n",
    "    [1,7],\n",
    "    [1,4,5],\n",
    "    [3,5],\n",
    "    [3,4],\n",
    "    [7],\n",
    "    [2,6,8],\n",
    "    [1,7]\n",
    "]\n",
    "\n",
    "visited = [False] * 9\n",
    "\n",
    "print(dfs(graph, 1, visited))"
   ]
  },
  {
   "cell_type": "code",
   "execution_count": null,
   "id": "75926550",
   "metadata": {},
   "outputs": [],
   "source": []
  }
 ],
 "metadata": {
  "kernelspec": {
   "display_name": "Python 3 (ipykernel)",
   "language": "python",
   "name": "python3"
  },
  "language_info": {
   "codemirror_mode": {
    "name": "ipython",
    "version": 3
   },
   "file_extension": ".py",
   "mimetype": "text/x-python",
   "name": "python",
   "nbconvert_exporter": "python",
   "pygments_lexer": "ipython3",
   "version": "3.8.2"
  }
 },
 "nbformat": 4,
 "nbformat_minor": 5
}
