{
 "cells": [
  {
   "cell_type": "code",
   "execution_count": 2,
   "id": "8cb0b95c",
   "metadata": {},
   "outputs": [
    {
     "name": "stdout",
     "output_type": "stream",
     "text": [
      "[0, 0, 0, 0, 0, 0, 0, 0, 0, 0]\n"
     ]
    }
   ],
   "source": [
    "a = [0]*10\n",
    "\n",
    "print(a)"
   ]
  },
  {
   "cell_type": "code",
   "execution_count": 5,
   "id": "44a04c1c",
   "metadata": {},
   "outputs": [
    {
     "name": "stdout",
     "output_type": "stream",
     "text": [
      "[2, 3, 4]\n"
     ]
    }
   ],
   "source": [
    "b = [1,2,3,4,5]\n",
    "\n",
    "print(b[1:4])"
   ]
  },
  {
   "cell_type": "code",
   "execution_count": 12,
   "id": "c48c23d1",
   "metadata": {},
   "outputs": [
    {
     "name": "stdout",
     "output_type": "stream",
     "text": [
      "[1, 2, 3, 4, 5, 6, 7, 8, 9, 10]\n"
     ]
    }
   ],
   "source": [
    "arr = [ i for i in range(1, 11) ]\n",
    "print(arr)"
   ]
  },
  {
   "cell_type": "code",
   "execution_count": 9,
   "id": "d88a0faa",
   "metadata": {},
   "outputs": [
    {
     "name": "stdout",
     "output_type": "stream",
     "text": [
      "[2, 4, 6, 8, 10]\n"
     ]
    }
   ],
   "source": [
    "arr1 = [ i for i in range(1,11) if i%2 == 0 ]\n",
    "print(arr1)"
   ]
  },
  {
   "cell_type": "code",
   "execution_count": 13,
   "id": "5c17825d",
   "metadata": {},
   "outputs": [
    {
     "name": "stdout",
     "output_type": "stream",
     "text": [
      "[[0, 0, 0, 0, 0], [0, 0, 0, 0, 0], [0, 0, 0, 0, 0], [0, 0, 0, 0, 0], [0, 0, 0, 0, 0]]\n"
     ]
    }
   ],
   "source": [
    "arr2 = [[0]*5 for _ in range(5)]\n",
    "print(arr2)"
   ]
  },
  {
   "cell_type": "code",
   "execution_count": 24,
   "id": "5236b5e7",
   "metadata": {},
   "outputs": [
    {
     "name": "stdout",
     "output_type": "stream",
     "text": [
      "[1, 2, 3, 4, 5, 6]\n",
      "[6, 5, 4, 3, 2, 1]\n",
      "[1, 2, 3, 4, 5, 6]\n",
      "[1, 2, 3, 3, 4, 5, 6]\n",
      "1\n",
      "None\n",
      "[1, 2, 3, 4, 5, 6]\n"
     ]
    }
   ],
   "source": [
    "arr3 = [1,2,3,4,5]\n",
    "arr3.append(6)\n",
    "print(arr3)\n",
    "\n",
    "arr3.sort(reverse=True)\n",
    "print(arr3)\n",
    "\n",
    "arr3.reverse()\n",
    "print(arr3)\n",
    "\n",
    "arr3.insert(2,3)\n",
    "print(arr3)\n",
    "\n",
    "print(arr3.count(2))\n",
    "\n",
    "print(arr3.remove(3))\n",
    "print(arr3)"
   ]
  },
  {
   "cell_type": "code",
   "execution_count": 25,
   "id": "a105d8a4",
   "metadata": {},
   "outputs": [
    {
     "name": "stdout",
     "output_type": "stream",
     "text": [
      "[1, 2, 4]\n"
     ]
    }
   ],
   "source": [
    "arr4 = [1,2,3,3,4,5,5,5]\n",
    "remove_set = {3,5}\n",
    "rst = [i for i in arr4 if i not in remove_set]\n",
    "print(rst)"
   ]
  },
  {
   "cell_type": "code",
   "execution_count": 32,
   "id": "74628bc8",
   "metadata": {},
   "outputs": [
    {
     "name": "stdout",
     "output_type": "stream",
     "text": [
      "test\n",
      "test\n",
      "\n"
     ]
    }
   ],
   "source": [
    "str = \"\"\"test\n",
    "test\n",
    "\"\"\"\n",
    "\n",
    "print(str)"
   ]
  },
  {
   "cell_type": "code",
   "execution_count": 39,
   "id": "d50f4ad6",
   "metadata": {},
   "outputs": [
    {
     "name": "stdout",
     "output_type": "stream",
     "text": [
      "{'lee': 30, 'kim': 40, 'park': 50}\n",
      "{'lee': 30, 'kim': 40, 'park': 50}\n",
      "['lee', 'kim', 'park']\n",
      "[30, 40, 50]\n"
     ]
    }
   ],
   "source": [
    "a = dict()\n",
    "a[\"lee\"] = 30\n",
    "a[\"kim\"] = 40\n",
    "a[\"park\"] = 50\n",
    "print(a)\n",
    "\n",
    "b = {\n",
    "    \"lee\": 30,\n",
    "    \"kim\": 40,\n",
    "    \"park\": 50\n",
    "}\n",
    "print(b)\n",
    "\n",
    "print(list(a.keys()))\n",
    "print(list(b.values()))"
   ]
  },
  {
   "cell_type": "code",
   "execution_count": 42,
   "id": "7a8ff0f5",
   "metadata": {},
   "outputs": [
    {
     "name": "stdout",
     "output_type": "stream",
     "text": [
      "5\n",
      "5\n",
      "10 20 30 40 50\n",
      "[10, 20, 30, 40, 50]\n"
     ]
    }
   ],
   "source": [
    "n = int(input())\n",
    "print(n)\n",
    "\n",
    "score = list(map(int, input().split()))\n",
    "print(score)"
   ]
  },
  {
   "cell_type": "code",
   "execution_count": 50,
   "id": "d160b6ad",
   "metadata": {},
   "outputs": [
    {
     "name": "stdout",
     "output_type": "stream",
     "text": [
      "1 2 3\n",
      "1 2 3\n"
     ]
    }
   ],
   "source": [
    "a, b, c = map(int, input().split())\n",
    "\n",
    "print(a, b, c)"
   ]
  },
  {
   "cell_type": "code",
   "execution_count": 70,
   "id": "ae7fd528",
   "metadata": {},
   "outputs": [
    {
     "name": "stdout",
     "output_type": "stream",
     "text": [
      "1 2 3\n",
      "a\tb\tanswer is 7.\n"
     ]
    }
   ],
   "source": [
    "print(1,2,3)\n",
    "\n",
    "print(\"a\", end=\"\\t\")\n",
    "print(\"b\", end=\"\\t\")\n",
    "\n",
    "answer = 7\n",
    "print(f\"answer is {answer}.\")"
   ]
  },
  {
   "cell_type": "code",
   "execution_count": 82,
   "id": "8ef99d70",
   "metadata": {},
   "outputs": [
    {
     "name": "stdout",
     "output_type": "stream",
     "text": [
      "77\n",
      "FAIL\n"
     ]
    }
   ],
   "source": [
    "def getScore(score):\n",
    "    if score >= 90 and score <= 100:\n",
    "        return \"A\"\n",
    "    elif score >= 80 and score < 90:\n",
    "        return \"B\"\n",
    "    elif score >= 70 and score < 80:\n",
    "        return \"C\"\n",
    "    elif score >= 60 and score < 70:\n",
    "        return \"D\"\n",
    "    else:\n",
    "        return \"F\"\n",
    "    \n",
    "n = int(input())\n",
    "\n",
    "passSet = {\"A\",\"B\"}\n",
    "rst = \"PASS\" if getScore(n) in passSet else \"FAIL\"\n",
    "print(rst)"
   ]
  },
  {
   "cell_type": "code",
   "execution_count": 85,
   "id": "4cd67d77",
   "metadata": {},
   "outputs": [
    {
     "name": "stdout",
     "output_type": "stream",
     "text": [
      "0 studnet PASS\n",
      "1 studnet PASS\n",
      "2 studnet FAIL\n",
      "3 studnet FAIL\n",
      "4 studnet FAIL\n"
     ]
    }
   ],
   "source": [
    "scoreList = [99,88,77,66,55]\n",
    "\n",
    "for i in range(len(scoreList)):\n",
    "    passSet = {\"A\",\"B\"}\n",
    "    rst = \"PASS\" if getScore(scoreList[i]) in passSet else \"FAIL\"\n",
    "    print(f\"{i} studnet {rst}\")"
   ]
  },
  {
   "cell_type": "code",
   "execution_count": 86,
   "id": "c18734dd",
   "metadata": {},
   "outputs": [
    {
     "name": "stdout",
     "output_type": "stream",
     "text": [
      "25\n"
     ]
    }
   ],
   "source": [
    "rst = 0\n",
    "for i in range(10):\n",
    "    if i % 2 == 0:\n",
    "        continue\n",
    "    rst += i\n",
    "    \n",
    "print(rst)"
   ]
  },
  {
   "cell_type": "code",
   "execution_count": 89,
   "id": "4e9112fd",
   "metadata": {},
   "outputs": [
    {
     "name": "stdout",
     "output_type": "stream",
     "text": [
      "1단\n",
      "1 X 1 =  1\n",
      "1 X 2 =  2\n",
      "1 X 3 =  3\n",
      "1 X 4 =  4\n",
      "1 X 5 =  5\n",
      "1 X 6 =  6\n",
      "1 X 7 =  7\n",
      "1 X 8 =  8\n",
      "1 X 9 =  9\n",
      "\n",
      "2단\n",
      "2 X 1 =  2\n",
      "2 X 2 =  4\n",
      "2 X 3 =  6\n",
      "2 X 4 =  8\n",
      "2 X 5 =  10\n",
      "2 X 6 =  12\n",
      "2 X 7 =  14\n",
      "2 X 8 =  16\n",
      "2 X 9 =  18\n",
      "\n",
      "3단\n",
      "3 X 1 =  3\n",
      "3 X 2 =  6\n",
      "3 X 3 =  9\n",
      "3 X 4 =  12\n",
      "3 X 5 =  15\n",
      "3 X 6 =  18\n",
      "3 X 7 =  21\n",
      "3 X 8 =  24\n",
      "3 X 9 =  27\n",
      "\n",
      "4단\n",
      "4 X 1 =  4\n",
      "4 X 2 =  8\n",
      "4 X 3 =  12\n",
      "4 X 4 =  16\n",
      "4 X 5 =  20\n",
      "4 X 6 =  24\n",
      "4 X 7 =  28\n",
      "4 X 8 =  32\n",
      "4 X 9 =  36\n",
      "\n",
      "5단\n",
      "5 X 1 =  5\n",
      "5 X 2 =  10\n",
      "5 X 3 =  15\n",
      "5 X 4 =  20\n",
      "5 X 5 =  25\n",
      "5 X 6 =  30\n",
      "5 X 7 =  35\n",
      "5 X 8 =  40\n",
      "5 X 9 =  45\n",
      "\n",
      "6단\n",
      "6 X 1 =  6\n",
      "6 X 2 =  12\n",
      "6 X 3 =  18\n",
      "6 X 4 =  24\n",
      "6 X 5 =  30\n",
      "6 X 6 =  36\n",
      "6 X 7 =  42\n",
      "6 X 8 =  48\n",
      "6 X 9 =  54\n",
      "\n",
      "7단\n",
      "7 X 1 =  7\n",
      "7 X 2 =  14\n",
      "7 X 3 =  21\n",
      "7 X 4 =  28\n",
      "7 X 5 =  35\n",
      "7 X 6 =  42\n",
      "7 X 7 =  49\n",
      "7 X 8 =  56\n",
      "7 X 9 =  63\n",
      "\n",
      "8단\n",
      "8 X 1 =  8\n",
      "8 X 2 =  16\n",
      "8 X 3 =  24\n",
      "8 X 4 =  32\n",
      "8 X 5 =  40\n",
      "8 X 6 =  48\n",
      "8 X 7 =  56\n",
      "8 X 8 =  64\n",
      "8 X 9 =  72\n",
      "\n",
      "9단\n",
      "9 X 1 =  9\n",
      "9 X 2 =  18\n",
      "9 X 3 =  27\n",
      "9 X 4 =  36\n",
      "9 X 5 =  45\n",
      "9 X 6 =  54\n",
      "9 X 7 =  63\n",
      "9 X 8 =  72\n",
      "9 X 9 =  81\n",
      "\n"
     ]
    }
   ],
   "source": [
    "for i in range(1,10):\n",
    "    print(f\"{i}단\")\n",
    "    for j in range(1,10):\n",
    "        print(f\"{i} X {j} = \", i*j)\n",
    "    print()"
   ]
  },
  {
   "cell_type": "code",
   "execution_count": 91,
   "id": "85986be8",
   "metadata": {},
   "outputs": [
    {
     "name": "stdout",
     "output_type": "stream",
     "text": [
      "[('kim', 30), ('lee', 40), ('park', 50)]\n"
     ]
    }
   ],
   "source": [
    "arr_name = [('lee', 40), ('kim', 30), (\"park\", 50)]\n",
    "\n",
    "print(sorted(arr_name, key=lambda x: x[1]))"
   ]
  },
  {
   "cell_type": "code",
   "execution_count": 96,
   "id": "31663f91",
   "metadata": {},
   "outputs": [
    {
     "name": "stdout",
     "output_type": "stream",
     "text": [
      "[1, 2, 3, 4, 5, 6, 7, 8, 9, 10]\n",
      "['odd', 'even', 'odd', 'even', 'odd', 'even', 'odd', 'even', 'odd', 'even']\n"
     ]
    }
   ],
   "source": [
    "list_a = [ i for i in range(1,11) ]\n",
    "print(list_a)\n",
    "\n",
    "rst = map(lambda x: \"even\" if x%2==0 else \"odd\", list_a )\n",
    "print(list(rst))"
   ]
  },
  {
   "cell_type": "code",
   "execution_count": 97,
   "id": "2e11f1b1",
   "metadata": {},
   "outputs": [
    {
     "name": "stdout",
     "output_type": "stream",
     "text": [
      "[('A', 'A'), ('A', 'B'), ('A', 'C'), ('B', 'A'), ('B', 'B'), ('B', 'C'), ('C', 'A'), ('C', 'B'), ('C', 'C')]\n"
     ]
    }
   ],
   "source": [
    "from itertools import product\n",
    "\n",
    "data = ['A', 'B', 'C']\n",
    "rst = list(product(data, repeat=2))\n",
    "print(rst)"
   ]
  },
  {
   "cell_type": "code",
   "execution_count": 99,
   "id": "318d18b3",
   "metadata": {},
   "outputs": [
    {
     "name": "stdout",
     "output_type": "stream",
     "text": [
      "[('A', 'A'), ('A', 'B'), ('A', 'C'), ('B', 'B'), ('B', 'C'), ('C', 'C')]\n"
     ]
    }
   ],
   "source": [
    "from itertools import combinations_with_replacement\n",
    "data = ['A', 'B', 'C']\n",
    "rst = list(combinations_with_replacement(data, 2))\n",
    "print(rst)"
   ]
  },
  {
   "cell_type": "code",
   "execution_count": 102,
   "id": "c06777a4",
   "metadata": {},
   "outputs": [
    {
     "name": "stdout",
     "output_type": "stream",
     "text": [
      "2\n",
      "{'red': 2, 'green': 2, 'blue': 3}\n"
     ]
    }
   ],
   "source": [
    "from collections import Counter\n",
    "\n",
    "myList = ['red', 'green', 'blue', 'green', 'blue', 'red', 'blue']\n",
    "counter = Counter(myList)\n",
    "\n",
    "print(counter['red'])\n",
    "print(dict(counter))"
   ]
  },
  {
   "cell_type": "code",
   "execution_count": 105,
   "id": "31002a54",
   "metadata": {},
   "outputs": [
    {
     "name": "stdout",
     "output_type": "stream",
     "text": [
      "4\n",
      "192\n"
     ]
    }
   ],
   "source": [
    "import math\n",
    "\n",
    "a = 12\n",
    "b = 64\n",
    "\n",
    "def lcm(a, b):\n",
    "    return a*b // math.gcd(a,b)\n",
    "\n",
    "print(math.gcd(a, b))\n",
    "print(lcm(a, b))"
   ]
  },
  {
   "cell_type": "code",
   "execution_count": null,
   "id": "8f6a0bb3",
   "metadata": {},
   "outputs": [],
   "source": []
  }
 ],
 "metadata": {
  "kernelspec": {
   "display_name": "Python 3 (ipykernel)",
   "language": "python",
   "name": "python3"
  },
  "language_info": {
   "codemirror_mode": {
    "name": "ipython",
    "version": 3
   },
   "file_extension": ".py",
   "mimetype": "text/x-python",
   "name": "python",
   "nbconvert_exporter": "python",
   "pygments_lexer": "ipython3",
   "version": "3.8.2"
  }
 },
 "nbformat": 4,
 "nbformat_minor": 5
}
