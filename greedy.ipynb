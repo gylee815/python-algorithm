{
 "cells": [
  {
   "cell_type": "code",
   "execution_count": 6,
   "id": "ea894700",
   "metadata": {},
   "outputs": [
    {
     "name": "stdout",
     "output_type": "stream",
     "text": [
      "6\n",
      "[(500, 2), (100, 2), (50, 1), (10, 1)]\n"
     ]
    }
   ],
   "source": [
    "n = 1260\n",
    "count = 0\n",
    "\n",
    "coins = [500, 100, 50, 10]\n",
    "coins_count = []\n",
    "\n",
    "for coin in coins:\n",
    "    coins_count.append((coin, n // coin))\n",
    "    count += n // coin\n",
    "    n %= coin\n",
    "    \n",
    "print(count)\n",
    "print(coins_count)"
   ]
  },
  {
   "cell_type": "code",
   "execution_count": 18,
   "id": "597aa7d8",
   "metadata": {},
   "outputs": [
    {
     "name": "stdout",
     "output_type": "stream",
     "text": [
      "25 3\n",
      "6\n"
     ]
    }
   ],
   "source": [
    "n, k = map(int, input().split())\n",
    "\n",
    "count = 0\n",
    "while(n!=1):\n",
    "    count += 1\n",
    "    if n%k == 0:\n",
    "#         count += 1\n",
    "        n //= k\n",
    "    else:\n",
    "#         count += 1\n",
    "        n -= 1\n",
    "        \n",
    "print(count)"
   ]
  },
  {
   "cell_type": "code",
   "execution_count": 23,
   "id": "c0b84ef3",
   "metadata": {},
   "outputs": [
    {
     "name": "stdout",
     "output_type": "stream",
     "text": [
      "24 8\n",
      "n :  24\n",
      "n :  0\n",
      "3\n"
     ]
    }
   ],
   "source": [
    "n, k = map(int, input().split())\n",
    "\n",
    "rst = 0\n",
    "\n",
    "while True:\n",
    "    target = (n // k)*k\n",
    "    rst += (n - target)\n",
    "    n = target\n",
    "    print(\"n : \", n)    \n",
    "    if n<k:\n",
    "        break\n",
    "    \n",
    "    rst += 1\n",
    "    n //= k\n",
    "    \n",
    "rst += (n-1)\n",
    "print(rst)"
   ]
  },
  {
   "cell_type": "code",
   "execution_count": 31,
   "id": "3e58f6ab",
   "metadata": {},
   "outputs": [
    {
     "name": "stdout",
     "output_type": "stream",
     "text": [
      "02984\n",
      "576\n"
     ]
    }
   ],
   "source": [
    "nums = input()\n",
    "total = int(nums[0])\n",
    "for i in range(1, len(nums)):\n",
    "    num = int(nums[i])\n",
    "    total = total+num if total+num > total*num else total*num\n",
    "        \n",
    "print(total)"
   ]
  },
  {
   "cell_type": "code",
   "execution_count": 32,
   "id": "fd1585af",
   "metadata": {},
   "outputs": [
    {
     "name": "stdout",
     "output_type": "stream",
     "text": [
      "02984\n",
      "576\n"
     ]
    }
   ],
   "source": [
    "nums = input()\n",
    "total = int(nums[0])\n",
    "for i in range(1, len(nums)):\n",
    "    num = int(nums[i])\n",
    "    total = total+num if total <=1 or num<=1 else total*num\n",
    "        \n",
    "print(total)"
   ]
  },
  {
   "cell_type": "code",
   "execution_count": 42,
   "id": "881455fb",
   "metadata": {},
   "outputs": [
    {
     "name": "stdout",
     "output_type": "stream",
     "text": [
      "5\n",
      "2 3 1 2 2\n",
      "2\n"
     ]
    }
   ],
   "source": [
    "n = input()\n",
    "f = map(int, input().split())\n",
    "\n",
    "guild = []\n",
    "count = 0\n",
    "max = 0\n",
    "for i in f:\n",
    "    guild.append(i)\n",
    "    \n",
    "    if max < i:\n",
    "        max = i\n",
    "        \n",
    "    if len(guild) == max:\n",
    "        count +=1\n",
    "        guild.clear()\n",
    "        max = 0\n",
    "        \n",
    "print(count)"
   ]
  },
  {
   "cell_type": "code",
   "execution_count": 48,
   "id": "68135793",
   "metadata": {},
   "outputs": [
    {
     "name": "stdout",
     "output_type": "stream",
     "text": [
      "5\n",
      "2 3 1 2 2\n",
      "[2, 3, 1, 2, 2]\n",
      "2\n"
     ]
    }
   ],
   "source": [
    "n = int(input())\n",
    "data = list(map(int, input().split()))\n",
    "data.sort()\n",
    "\n",
    "rst = 0\n",
    "count = 0\n",
    "\n",
    "for i in data:\n",
    "    count += 1\n",
    "    if count >= i:\n",
    "        rst += 1\n",
    "        count = 0\n",
    "    \n",
    "print(rst)"
   ]
  },
  {
   "cell_type": "code",
   "execution_count": 53,
   "id": "8c9338b4",
   "metadata": {},
   "outputs": [
    {
     "name": "stdout",
     "output_type": "stream",
     "text": [
      "2 3\n",
      "1 2\n",
      "2 1\n",
      "3 2\n"
     ]
    }
   ],
   "source": [
    "dx = [0, -1, 0, 1]\n",
    "dy = [1, 0, -1, 0]\n",
    "\n",
    "x, y = (2, 2)\n",
    "\n",
    "for i in range(4):\n",
    "    nx = x + dx[i]\n",
    "    ny = y + dy[i]\n",
    "    \n",
    "    print(nx, ny)"
   ]
  },
  {
   "cell_type": "code",
   "execution_count": 79,
   "id": "5bca8e74",
   "metadata": {},
   "outputs": [
    {
     "name": "stdout",
     "output_type": "stream",
     "text": [
      "5\n",
      "R R R U D D\n",
      "(1, 1)\n",
      "(3, 4)\n"
     ]
    }
   ],
   "source": [
    "n = int(input())\n",
    "plan = list(input().split())\n",
    "\n",
    "# myMap = [[(i+1,j+1) for j in range(n)] for i in range(n)]\n",
    "# cur = myMap[0][0]\n",
    "cur = (1,1)\n",
    "print(cur)\n",
    "\n",
    "def move(pos, direction):\n",
    "    x, y = pos\n",
    "#     nx, ny = (0,0)\n",
    "    if direction == \"R\":\n",
    "        nx = x + dx[0]\n",
    "        ny = y + dy[0]\n",
    "    elif direction == \"U\":\n",
    "        nx = x + dx[1]\n",
    "        ny = y + dy[1]\n",
    "    elif direction == \"L\":\n",
    "        nx = x + dx[2]\n",
    "        ny = y + dy[2]\n",
    "    elif direction == \"D\":\n",
    "        nx = x + dx[3]\n",
    "        ny = y + dy[3]\n",
    "    \n",
    "    \n",
    "    if nx <= 0 or ny <= 0:\n",
    "        nx = x\n",
    "        ny = y\n",
    "    \n",
    "    return nx, ny\n",
    "\n",
    "dx = [0, -1, 0, 1]\n",
    "dy = [1, 0, -1, 0]\n",
    "\n",
    "for d in plan:\n",
    "    cur = move(cur, d)\n",
    "\n",
    "print(cur)"
   ]
  },
  {
   "cell_type": "code",
   "execution_count": 88,
   "id": "2adaac15",
   "metadata": {},
   "outputs": [
    {
     "name": "stdout",
     "output_type": "stream",
     "text": [
      "5\n",
      "11475\n"
     ]
    }
   ],
   "source": [
    "n = int(input())\n",
    "\n",
    "count = 0\n",
    "for h in range(n+1):\n",
    "    for m in range(60):\n",
    "        for s in range(60):\n",
    "            time = str(h) + str(m) + str(s)\n",
    "            if \"3\" in time:\n",
    "                count +=1\n",
    "            \n",
    "print(count)"
   ]
  },
  {
   "cell_type": "code",
   "execution_count": 106,
   "id": "2a1f1ec1",
   "metadata": {},
   "outputs": [
    {
     "name": "stdout",
     "output_type": "stream",
     "text": [
      "c2\n",
      "(1, 1)\n",
      "(1, 3)\n",
      "(5, 1)\n",
      "(5, 3)\n",
      "(2, 4)\n",
      "(4, 4)\n",
      "6\n"
     ]
    }
   ],
   "source": [
    "pos = input()\n",
    "count = 0\n",
    "move_lists = [\"LLU\", \"LLD\", \"RRU\", \"RRD\", \"UUL\", \"DDL\", \"UUR\", \"DDR\"]\n",
    "\n",
    "def move(pos, direction):\n",
    "    dx = [0, -1, 0, 1]\n",
    "    dy = [1, 0, -1, 0]\n",
    "\n",
    "    x, y = pos\n",
    "    if direction == \"R\":\n",
    "        nx = x + dx[3]\n",
    "        ny = y + dy[3]\n",
    "    elif direction == \"U\":\n",
    "        nx = x + dx[2]\n",
    "        ny = y + dy[2]\n",
    "    elif direction == \"L\":\n",
    "        nx = x + dx[1]\n",
    "        ny = y + dy[1]\n",
    "    elif direction == \"D\":\n",
    "        nx = x + dx[0]\n",
    "        ny = y + dy[0]\n",
    "    \n",
    "    return nx, ny\n",
    "\n",
    "for move_list in move_lists:\n",
    "    cur = tuple(ord(p)-96 if ord(p)-96 >= 0 else int(p) for p in pos)\n",
    "#     print(cur)\n",
    "    for m in move_list:\n",
    "        cur = move(cur, m)\n",
    "    if cur[0] >= 1 and cur[1] >= 1 and cur[0] <= 8 and cur[1] <= 8:\n",
    "        print(cur)\n",
    "        count+=1 \n",
    "    \n",
    "print(count)"
   ]
  },
  {
   "cell_type": "code",
   "execution_count": 119,
   "id": "f720a875",
   "metadata": {},
   "outputs": [
    {
     "name": "stdout",
     "output_type": "stream",
     "text": [
      "AJKDLSI412K4JSJ9D\n",
      "ADDIJJJKKLSS20\n"
     ]
    }
   ],
   "source": [
    "data = input()\n",
    "\n",
    "rst = \"\"\n",
    "tmp = 0\n",
    "for c in data:\n",
    "    if ord(c) - 65 >= 0:\n",
    "        rst += c\n",
    "    else:\n",
    "        tmp += int(c)\n",
    "\n",
    "rst = ''.join(sorted(rst)) + str(tmp)\n",
    "\n",
    "print(rst)"
   ]
  },
  {
   "cell_type": "code",
   "execution_count": null,
   "id": "334c5bfc",
   "metadata": {},
   "outputs": [],
   "source": []
  }
 ],
 "metadata": {
  "kernelspec": {
   "display_name": "Python 3 (ipykernel)",
   "language": "python",
   "name": "python3"
  },
  "language_info": {
   "codemirror_mode": {
    "name": "ipython",
    "version": 3
   },
   "file_extension": ".py",
   "mimetype": "text/x-python",
   "name": "python",
   "nbconvert_exporter": "python",
   "pygments_lexer": "ipython3",
   "version": "3.8.2"
  }
 },
 "nbformat": 4,
 "nbformat_minor": 5
}
